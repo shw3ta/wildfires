{
 "cells": [
  {
   "cell_type": "code",
   "execution_count": 82,
   "id": "c10f2017",
   "metadata": {},
   "outputs": [],
   "source": [
    "import numpy as np\n",
    "import matplotlib.pyplot as plt\n",
    "import random\n",
    "import agentpy as ap\n",
    "from matplotlib import colors\n",
    "from datetime import datetime\n",
    "import sys"
   ]
  },
  {
   "cell_type": "code",
   "execution_count": 83,
   "id": "4e3f7f9b",
   "metadata": {},
   "outputs": [],
   "source": [
    "sys.setrecursionlimit(2000)\n",
    "\n",
    "\n",
    "# basic square forest\n",
    "# each cell has 3 possible states: 0, 1, 2 corresponding to empty, tree, fire\n",
    "class square_forest:\n",
    "\t# ideally evolves till full destruction, but we can set a hard limit on time\n",
    "\n",
    "\tdef __init__(self, dim):\n",
    "\t\tself.dim = dim  # dimension of square forest\n",
    "\t\tself.cells = np.zeros((self.dim, self.dim)) # forest grid init\n",
    "\t\tself.burnt = [] # not really a property, just easier to not pass this hehe; keeps track of how many trees were burnt and where in this forest instance\n",
    "\t\tself.grid_collector = [] # for the purpose of plotting\n",
    "\n",
    "\tdef init_cells(self):\n",
    "\t\t# random init with some number of trees; upper limit = dim * dim\n",
    "\t\tn_max = np.random.randint(self.dim * self.dim) \n",
    "\n",
    "\t\tloc_trees = set()\n",
    "\t\tfor i in range(n_max):\n",
    "\t\t\tcoords = tuple(np.random.randint(self.dim, size=2))\n",
    "\t\t\tloc_trees.add(coords)\n",
    "\t\t\t\n",
    "\t\t# planting trees\n",
    "\t\tfor tree in loc_trees:\n",
    "\t\t\t# note here that the actual no. of trees in the init config is <= n_trees since the guessed locations need not be unique\n",
    "\t\t\tself.cells[tree[0], tree[1]] = 1\n",
    "\n",
    "\t\t# print(f\"\\nafter random tree planting: \\n{self.cells}\")\n",
    "\t\tself.grid_collector.append(self.cells.copy())\n",
    "\t\n",
    "\tdef get_valid_neighbours(self, cell):\n",
    "\t\t# checking for edge indices \n",
    "\t\trow, col = cell[0], cell[1]\n",
    "\t\tif row < 0 : \n",
    "\t\t\traise Exception(\"negative row index encountered\")\n",
    "\n",
    "\t\telif col < 0 : \n",
    "\t\t\traise Exception(\"negative column index encountered\")\n",
    "\n",
    "\t\telif row >= self.dim : \n",
    "\t\t\traise Exception(\"row index out of dimension bounds\")\n",
    "\n",
    "\t\telif col >= self.dim : \n",
    "\t\t\traise Exception(\"column index out of dimension bounds\")\n",
    "\n",
    "\t\telse:\n",
    "\t\t\t# we're safe from unruly indices\n",
    "\t\t\tneighbours = [(row - 1, col), (row + 1, col), (row, col - 1), (row, col + 1)] # we're only interested in the adjacent cells according to the paper\n",
    "\t\t\t# print(\"\\n -- adjacent cells indices are: \", neighbours)\n",
    "\n",
    "\t\t\t# marking useless neighbours i.e we only need cells with trees in the neighbourhood of interest\n",
    "\t\t\tfor i, (r, c) in enumerate(neighbours):\n",
    "\t\t\t\tif r < 0 or c < 0 or r == self.dim or c == self.dim:\n",
    "\t\t\t\t\tneighbours[i] = None\n",
    "\t\t\t\telif self.cells[r, c] != 1 :\n",
    "\t\t\t\t\tneighbours[i] = None\n",
    "\n",
    "\t\t\t# print(\"\\n -- after None-ifying non tree cells and invalid edge cases: \", neighbours)\n",
    "\n",
    "\t\t\t# removing marked neighbour coords and appending only the valid ones\n",
    "\t\t\tvalid_neighbours = []\n",
    "\t\t\tfor n in neighbours:\n",
    "\t\t\t\tif n != None:\n",
    "\t\t\t\t\tvalid_neighbours.append(n)\n",
    "\n",
    "\t\t\t# if len(valid_neighbours) != 0: print(\"\\n List of valid neighbours: \", valid_neighbours) \n",
    "\n",
    "\t\t\treturn valid_neighbours\n",
    "\n",
    "\t\n",
    "\tdef get_fire_loc(self):\n",
    "\t\t# randomly pick a fire location\n",
    "\t\treturn np.random.randint(self.dim, size=2)\n",
    "\n",
    "\t\n",
    "\tdef spread_to(self, valid_neighbours):\n",
    "\t\t# function to spread the fire to first degree neighbours; recursive\n",
    "\t\t# print(\"\\n---------------------------\\nThe next degree neighbours are at: \", valid_neighbours)\n",
    "\t\n",
    "\t\t# now we burn all of them:\n",
    "\t\tfor (row, col) in valid_neighbours:\n",
    "\t\t\t# decimate: first set to 2\n",
    "\t\t\tself.cells[row, col] = 2\n",
    "\t\t\tself.burnt.append((row, col))\n",
    "\t\t\n",
    "\t\tself.grid_collector.append(self.cells.copy())\n",
    "\n",
    "\t\t# spread to second degree neighbours\n",
    "\t\tfor cell in valid_neighbours:\n",
    "\t\t\tnext_neighbours = self.get_valid_neighbours(cell)\n",
    "\t\t\tif len(next_neighbours) != 0: # i.e has somewhere to spread to\n",
    "\t\t\t\tself.spread_to(next_neighbours)\n",
    "\n",
    "\t\n",
    "\tdef simulate_fire_at(self, fire_loc):\n",
    "\t\t# takes a location as a param, simulates the spread of fire at that location; keeps tabs on how much area has been affected\n",
    "\n",
    "\t\tself.cells[fire_loc[0], fire_loc[1]] = 2\n",
    "\t\tself.burnt.append(fire_loc)\n",
    "\n",
    "\t\t# spread\n",
    "\t\tneighbours = self.get_valid_neighbours(fire_loc)\n",
    "\t\tself.spread_to(neighbours)\t# spread_to() will set the states to 2\n",
    "\t\tself.grid_collector.append(self.cells)\n",
    "\n",
    "\t\t# now we change it to 0 so that the simulation can proceed as required\n",
    "\t\tfor (r, c) in self.burnt:\n",
    "\t\t\tself.cells[r, c] = 0\n",
    "\n",
    "\t\tarea_burnt = len(self.burnt)\n",
    "\t\tself.burnt = [] # reset for next fire # if the locs themselves are not used, replace with a simple counter\n",
    "\t\tself.grid_collector.append(self.cells.copy())\n",
    "\n",
    "\n",
    "\t\treturn area_burnt, self.grid_collector\n",
    "\n",
    "\tdef plant_one_tree(self):\n",
    "\t\t# plants a NEW tree with probability 1 at a random location on the grid\n",
    "\t\tfor i in range(self.dim * self.dim):\n",
    "\t\t\tcoords = np.random.randint(self.dim, size=2)\n",
    "\t\t\tif self.cells[coords[0], coords[1]] != 1 : \n",
    "\t\t\t\t\n",
    "\t\t\t\t# plant a tree since there is no tree here\n",
    "\t\t\t\tself.cells[coords[0], coords[1]] = 1 # planted\n",
    "\t\t\t\tself.grid_collector.append(self.cells.copy())\n",
    "\t\t\t\tbreak\n"
   ]
  },
  {
   "attachments": {},
   "cell_type": "markdown",
   "id": "a5786e4f",
   "metadata": {},
   "source": [
    "## Initialize some forest"
   ]
  },
  {
   "cell_type": "code",
   "execution_count": 145,
   "id": "61310b55",
   "metadata": {},
   "outputs": [
    {
     "data": {
      "text/plain": [
       "<matplotlib.image.AxesImage at 0x266cd0d9970>"
      ]
     },
     "execution_count": 145,
     "metadata": {},
     "output_type": "execute_result"
    },
    {
     "data": {
      "image/png": "[encoded data removed]",
      "text/plain": [
       "<Figure size 432x288 with 1 Axes>"
      ]
     },
     "metadata": {
      "needs_background": "light"
     },
     "output_type": "display_data"
    }
   ],
   "source": [
    "forest = square_forest(10)\n",
    "forest.init_cells()\n",
    "plt.imshow(forest.cells)"
   ]
  },
  {
   "cell_type": "code",
   "execution_count": 146,
   "id": "d9a6ee09",
   "metadata": {},
   "outputs": [],
   "source": [
    "for i in range(50):\n",
    "    start_loc = forest.get_fire_loc()\n",
    "    area_burnt, grids = forest.simulate_fire_at(start_loc)\n",
    "    forest.plant_one_tree()\n",
    "\n",
    "grids = forest.grid_collector"
   ]
  },
  {
   "cell_type": "code",
   "execution_count": 147,
   "id": "947ae669",
   "metadata": {},
   "outputs": [
    {
     "data": {
      "text/plain": [
       "217"
      ]
     },
     "execution_count": 147,
     "metadata": {},
     "output_type": "execute_result"
    }
   ],
   "source": [
    "len(grids)"
   ]
  },
  {
   "cell_type": "code",
   "execution_count": 148,
   "id": "6cea9312",
   "metadata": {},
   "outputs": [
    {
     "data": {
      "text/plain": [
       "<matplotlib.image.AxesImage at 0x266cd131f70>"
      ]
     },
     "execution_count": 148,
     "metadata": {},
     "output_type": "execute_result"
    },
    {
     "data": {
      "image/png": "[encoded data removed]",
      "text/plain": [
       "<Figure size 432x288 with 1 Axes>"
      ]
     },
     "metadata": {
      "needs_background": "light"
     },
     "output_type": "display_data"
    }
   ],
   "source": [
    "plt.imshow(grids[35])"
   ]
  },
  {
   "attachments": {},
   "cell_type": "markdown",
   "id": "e1cff7e0",
   "metadata": {},
   "source": [
    "## Plotting"
   ]
  },
  {
   "cell_type": "code",
   "execution_count": 150,
   "id": "3b28311e",
   "metadata": {},
   "outputs": [
    {
     "data": {
      "image/png": "[encoded data removed]",
      "text/plain": [
       "<Figure size 576x576 with 1 Axes>"
      ]
     },
     "metadata": {
      "needs_background": "light"
     },
     "output_type": "display_data"
    }
   ],
   "source": [
    "from PIL import Image\n",
    "import matplotlib.animation as animation\n",
    "\n",
    "def animate_func(i):\n",
    "    # animation function which is called sequentially\n",
    "    im.set_array(grids[i])\n",
    "    ax.set_title('Time step ' + str(i))\n",
    "    return im \n",
    "\n",
    "fps = 30\n",
    "nsec = 5\n",
    "\n",
    "# set up the figure\n",
    "fig, ax = plt.subplots(figsize=(8, 8))\n",
    "\n",
    "# element to animate\n",
    "im = plt.imshow(grids[0])\n",
    "anim = animation.FuncAnimation(fig, animate_func, frames=nsec*fps, interval=1000/fps, repeat=False)\n",
    "anim.save('test_anim.mp4', fps=fps)\n"
   ]
  },
  {
   "cell_type": "code",
   "execution_count": 143,
   "id": "cb8aac66",
   "metadata": {},
   "outputs": [
    {
     "data": {
      "image/png": "[encoded data removed]",
      "text/plain": [
       "<Figure size 432x288 with 1 Axes>"
      ]
     },
     "metadata": {
      "needs_background": "light"
     },
     "output_type": "display_data"
    }
   ],
   "source": [
    "fps = 30\n",
    "nsec = 5\n",
    "\n",
    "# set up the figure\n",
    "fig, ax = plt.figure(figsize=(8,8))\n",
    "\n",
    "#im = plt.imshow(grids[0], interpolation='none', aspect='auto', vmin=0, vmax=1)\n",
    "# element to animate\n",
    "im = plt.imshow(grids[0])\n",
    "anim = animation.FuncAnimation(fig, animate_func, frames=nsec*fps, interval=1000/fps, repeat=False)\n",
    "anim.save('test_anim.mp4', fps=fps)\n"
   ]
  },
  {
   "cell_type": "code",
   "execution_count": 24,
   "id": "d570f9b7",
   "metadata": {},
   "outputs": [],
   "source": [
    "color_dict = {0:'wheat', 1:'yellowgreen', 2:'darkorange'}\n"
   ]
  },
  {
   "cell_type": "code",
   "execution_count": 14,
   "id": "32b50956",
   "metadata": {},
   "outputs": [
    {
     "data": {
      "text/plain": [
       "<matplotlib.image.AxesImage at 0x1fafcc7b2b0>"
      ]
     },
     "execution_count": 14,
     "metadata": {},
     "output_type": "execute_result"
    },
    {
     "data": {
      "image/png": "[encoded data removed]",
      "text/plain": [
       "<Figure size 432x288 with 1 Axes>"
      ]
     },
     "metadata": {
      "needs_background": "light"
     },
     "output_type": "display_data"
    }
   ],
   "source": [
    "\n",
    "fig, ax = plt.subplots()\n",
    "#plt.figure(figsize=(6,6))\n",
    "color_dict = {0:'wheat', 1:'yellowgreen', 2:'darkorange'}\n",
    "ap.gridplot(forest, ax=ax, color_dict=color_dict, convert=True)\n"
   ]
  },
  {
   "cell_type": "code",
   "execution_count": 49,
   "id": "7e07a5a3",
   "metadata": {},
   "outputs": [],
   "source": [
    "def run_simulation(gridsize,fire_fq):\n",
    "\t# runs simulation and does housekeeping\n",
    "\tforest = square_forest(dim = gridsize) #initialize a square forest\n",
    "\n",
    "\tforest.init_cells()\n",
    "\n",
    "\t# not added the coin flipping between the two functions of burn vs plant tree yet\n",
    "\tstart_loc = forest.get_fire_loc()\n",
    "\tarea_burnt, grids = forest.simulate_fire_at(start_loc)\n",
    "\t\n",
    "\tforest.plant_one_tree()\n",
    "\n",
    "\tlogfile = open(f\"logfile_{str(fire_fq)}.txt\", \"a+\")\n",
    "\tlogfile.write(f\"time: {datetime.now()}\\tarea burnt: {area_burnt}\\n\")\n",
    "\tlogfile.close()\n",
    "\t# close opened files\n",
    "\t"
   ]
  },
  {
   "cell_type": "code",
   "execution_count": 50,
   "id": "7e4bc419",
   "metadata": {},
   "outputs": [],
   "source": [
    "def main():\n",
    "\t# CSV in input files; txt files accepted. each line corresponds to one simulation param set\n",
    "\t# gridsize,firefq,numsims\n",
    "\tinput_params = open(\"params.txt\", \"r+\")\n",
    "\t\n",
    "\tfor line in input_params.readlines():\n",
    "\t\tline = line.split(\",\")\n",
    "\t\tgrid_size, fire_fq, num_sims = int(line[0]), float(line[1]), int(line[2])\n",
    "\t\tprint(f\"grid size: {grid_size}, fire freq: {fire_fq}, num sims: {num_sims}\\nRunning.....\")\n",
    "\n",
    "\t\t# running simulation for these params\n",
    "\t\tfor i in range(num_sims):\n",
    "\t\t\trun_simulation(grid_size, fire_fq)\n",
    "\t\t\n",
    "\n",
    "\t\tprint(\"Done!\\n\")"
   ]
  },
  {
   "cell_type": "code",
   "execution_count": null,
   "id": "3de73e86",
   "metadata": {},
   "outputs": [],
   "source": []
  }
 ],
 "metadata": {
  "kernelspec": {
   "display_name": "Python 3",
   "language": "python",
   "name": "python3"
  },
  "language_info": {
   "codemirror_mode": {
    "name": "ipython",
    "version": 3
   },
   "file_extension": ".py",
   "mimetype": "text/x-python",
   "name": "python",
   "nbconvert_exporter": "python",
   "pygments_lexer": "ipython3",
   "version": "3.9.6"
  }
 },
 "nbformat": 4,
 "nbformat_minor": 5
}
