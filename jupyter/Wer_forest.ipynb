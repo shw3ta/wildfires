{
 "cells": [
  {
   "cell_type": "code",
   "execution_count": 1,
   "id": "c10f2017",
   "metadata": {},
   "outputs": [],
   "source": [
    "import numpy as np\n",
    "import matplotlib.pyplot as plt\n",
    "import random\n",
    "import agentpy as ap\n",
    "from matplotlib import colors\n",
    "from matplotlib.colors import ListedColormap\n",
    "from datetime import datetime\n",
    "import sys\n",
    "from IPython import display"
   ]
  },
  {
   "cell_type": "code",
   "execution_count": 2,
   "id": "4e3f7f9b",
   "metadata": {},
   "outputs": [],
   "source": [
    "sys.setrecursionlimit(5000)\n",
    "\n",
    "class Forest:\n",
    "\t\n",
    "\t# defining attributes of the forest\n",
    "\tdef __init__(self, dimension):\n",
    "\t\tself.dimension = dimension\n",
    "\t\tself.cells = np.zeros((self.dimension, self.dimension)) # initialize square grid with 0s\n",
    "\t\tself.grids, self.burnt = [], []\n",
    "\n",
    "\t# when called, collects the current state of the grid\t\t\n",
    "\tdef collect(self):\n",
    "\t\tstate = self.cells.copy()\n",
    "\t\tself.grids.append(state)\n",
    "\n",
    "\tdef get_valid_neighbours(self, cell):\n",
    "\n",
    "\t\trow, col = cell[0], cell[1]\n",
    "\n",
    "\t\t# STEP 1. remove edge cases \n",
    "\t\tif row < 0 : \n",
    "\t\t\traise Exception(\"negative row index encountered\")\n",
    "\n",
    "\t\telif col < 0 : \n",
    "\t\t\traise Exception(\"negative column index encountered\")\n",
    "\n",
    "\t\telif row >= self.dimension : \n",
    "\t\t\traise Exception(\"row index out of dimension bounds\")\n",
    "\n",
    "\t\telif col >= self.dimension : \n",
    "\t\t\traise Exception(\"column index out of dimension bounds\")\n",
    "\n",
    "\t\t# STEP 2.\n",
    "\t\telse: \n",
    "\t\t\tneighbours = [(row - 1, col), (row + 1, col), (row, col - 1), (row, col + 1)] # defined according to paper --> only adjacent cells, not diagonals\n",
    "\t\t\tvalid_neighbours = []\n",
    "\n",
    "\t\t\tfor i, (r, c) in enumerate(neighbours):\n",
    "\t\t\t\tif (-1 < r < self.dimension) and (-1 < c < self.dimension) and self.cells[r, c] == 1:\n",
    "\t\t\t\t\tvalid_neighbours.append(neighbours[i])\n",
    "\n",
    "\t\t\t# print(\"Final valid neighbours: \", valid_neighbours)\n",
    "\t\t\treturn valid_neighbours\n",
    "\n",
    "\n",
    "\tdef random_init_trees(self):\n",
    "\t\tn_max = np.random.randint(self.dimension * self.dimension) # max possible number of trees in the grid\n",
    "\t\t\n",
    "\t\t# @wero: i removed the second loop; now we directly change state.\n",
    "\t\tfor i in range(n_max):\n",
    "\t\t\tcoordinate = tuple(np.random.randint(self.dimension, size = 2)) #get random within-grid coordinate\n",
    "\t\t\tif self.cells[coordinate[0], coordinate[1]] == 0:\n",
    "\t\t\t\tself.cells[coordinate[0], coordinate[1]] = 1\n",
    "\n",
    "\t\tself.collect()\n",
    "\n",
    "\tdef plant_tree(self):\n",
    "\t\twhile True:\n",
    "\t\t\tcoordinate = np.random.randint(self.dimension, size = 2) # get random within-grid coordinate\n",
    "\t\t\tif self.cells[coordinate[0], coordinate[1]] != 1:\n",
    "\t\t\t\tself.cells[coordinate[0], coordinate[1]] = 1\n",
    "\n",
    "\t\t\t\tself.collect()\n",
    "\t\t\t\tbreak\n",
    "\t\n",
    "\n",
    "\tdef spread_to(self, valid_neighbours):\n",
    "\t\tfor (row, col) in valid_neighbours:\n",
    "\t\t\tself.cells[row, col] = 2\n",
    "\t\t\tself.burnt.append((row, col))\n",
    "\n",
    "\t\tself.collect()\n",
    "\n",
    "\t\t# now spread to 2nd degree neighbours\n",
    "\t\tfor cell in valid_neighbours:\n",
    "\t\t\tnext_neighbours = self.get_valid_neighbours(cell)\n",
    "\t\t\tif len(next_neighbours) != 0:\n",
    "\t\t\t\t# spread only if there is something to spread to\n",
    "\t\t\t\tself.spread_to(next_neighbours)\n",
    "\n",
    "\n",
    "\tdef reset_burnt_area(self):\n",
    "\t\t# goes through only those cells that were burnt until function call, not the whole grid\n",
    "\t\tfor (r, c) in self.burnt:\n",
    "\t\t\tself.cells[r, c] = 0\n",
    "\n",
    "\t\tself.collect()\n",
    "\n",
    "\n",
    "\tdef start_fire(self, fire_loc):\n",
    "\t\t\n",
    "\t\trow, col = fire_loc[0], fire_loc[1]\n",
    "\t\t# drop match at location\n",
    "\t\tself.cells[row, col] = 2\n",
    "\t\tself.burnt.append(fire_loc)\n",
    "\t\tself.collect()\n",
    "\n",
    "\t\tneighbours = self.get_valid_neighbours(fire_loc)\n",
    "\t\tself.spread_to(neighbours)\n",
    "\n",
    "\t\tself.reset_burnt_area()\n",
    "\t\t\n",
    "\t\tarea_burnt = len(self.burnt)\n",
    "\t\tself.burnt = []\n",
    "\n",
    "\t\treturn area_burnt\n",
    "\t"
   ]
  },
  {
   "attachments": {},
   "cell_type": "markdown",
   "id": "a5786e4f",
   "metadata": {},
   "source": [
    "## Initialize some forest"
   ]
  },
  {
   "cell_type": "code",
   "execution_count": 3,
   "id": "0953688b",
   "metadata": {},
   "outputs": [],
   "source": [
    "color_dict = {0.0:'wheat', 1.0:'yellowgreen', 2.0:'darkorange'}\n",
    "color_lst = ['wheat','darkorange','yellowgreen']\n",
    "cmap = colors.ListedColormap(color_lst)\n"
   ]
  },
  {
   "cell_type": "code",
   "execution_count": 4,
   "id": "61310b55",
   "metadata": {},
   "outputs": [
    {
     "data": {
      "text/plain": [
       "<matplotlib.image.AxesImage at 0x227a52f09a0>"
      ]
     },
     "execution_count": 4,
     "metadata": {},
     "output_type": "execute_result"
    },
    {
     "data": {
      "image/png": "[encoded data removed]",
      "text/plain": [
       "<Figure size 432x288 with 1 Axes>"
      ]
     },
     "metadata": {
      "needs_background": "light"
     },
     "output_type": "display_data"
    }
   ],
   "source": [
    "forest = Forest(10)\n",
    "forest.random_init_trees()\n",
    "plt.imshow(forest.cells, cmap=cmap)\n",
    "#plt.imshow(forest.cells)"
   ]
  },
  {
   "cell_type": "code",
   "execution_count": 5,
   "id": "d9a6ee09",
   "metadata": {},
   "outputs": [],
   "source": [
    "for i in range(50):\n",
    "    start_loc = np.random.randint(forest.dimension, size = 2)\n",
    "    A_f = forest.start_fire(start_loc)\n",
    "    forest.plant_tree()"
   ]
  },
  {
   "cell_type": "code",
   "execution_count": 6,
   "id": "947ae669",
   "metadata": {},
   "outputs": [
    {
     "data": {
      "text/plain": [
       "224"
      ]
     },
     "execution_count": 6,
     "metadata": {},
     "output_type": "execute_result"
    }
   ],
   "source": [
    "len(forest.grids)"
   ]
  },
  {
   "cell_type": "code",
   "execution_count": 7,
   "id": "6cea9312",
   "metadata": {},
   "outputs": [
    {
     "data": {
      "text/plain": [
       "<matplotlib.image.AxesImage at 0x227a795f250>"
      ]
     },
     "execution_count": 7,
     "metadata": {},
     "output_type": "execute_result"
    },
    {
     "data": {
      "image/png": "[encoded data removed]",
      "text/plain": [
       "<Figure size 432x288 with 1 Axes>"
      ]
     },
     "metadata": {
      "needs_background": "light"
     },
     "output_type": "display_data"
    }
   ],
   "source": [
    "plt.imshow(forest.grids[12], cmap=cmap)"
   ]
  },
  {
   "attachments": {},
   "cell_type": "markdown",
   "id": "e1cff7e0",
   "metadata": {},
   "source": [
    "## Plotting"
   ]
  },
  {
   "cell_type": "code",
   "execution_count": 10,
   "id": "3b28311e",
   "metadata": {},
   "outputs": [
    {
     "data": {
      "image/png": "[encoded data removed]",
      "text/plain": [
       "<Figure size 576x576 with 1 Axes>"
      ]
     },
     "metadata": {
      "needs_background": "light"
     },
     "output_type": "display_data"
    }
   ],
   "source": [
    "from PIL import Image\n",
    "import matplotlib.animation as animation\n",
    "\n",
    "#def animate_func(i):\n",
    "    # animation function which is called sequentially\n",
    "    #im.set_array(grids[i])\n",
    "    #ax.set_title('Time step ' + str(i))\n",
    "    #return im \n",
    "\n",
    "fps = 2\n",
    "#nsec = 5\n",
    "\n",
    "# set up the figure\n",
    "fig, ax = plt.subplots(figsize=(8, 8))\n",
    "\n",
    "# element to animate\n",
    "#im = plt.imshow(grids[0])\n",
    "\n",
    "frames=[]\n",
    "for i in range(len(forest.grids)):\n",
    "    #frames.append([plt.imshow(forest.grids[i])])\n",
    "    frames.append([plt.imshow(forest.grids[i], cmap=cmap)])\n",
    "    \n",
    "anim = animation.ArtistAnimation(fig, frames, interval=1000, repeat=False, blit=True)\n",
    "#anim = animation.FuncAnimation(fig, animate_func)\n",
    "anim.save('test_anim.mp4', fps=fps)\n"
   ]
  },
  {
   "cell_type": "code",
   "execution_count": null,
   "id": "3de73e86",
   "metadata": {},
   "outputs": [],
   "source": []
  }
 ],
 "metadata": {
  "kernelspec": {
   "display_name": "Python 3",
   "language": "python",
   "name": "python3"
  },
  "language_info": {
   "codemirror_mode": {
    "name": "ipython",
    "version": 3
   },
   "file_extension": ".py",
   "mimetype": "text/x-python",
   "name": "python",
   "nbconvert_exporter": "python",
   "pygments_lexer": "ipython3",
   "version": "3.9.6"
  }
 },
 "nbformat": 4,
 "nbformat_minor": 5
}
