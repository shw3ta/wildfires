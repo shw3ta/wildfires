{
 "cells": [
  {
   "cell_type": "code",
   "execution_count": 204,
   "id": "c10f2017",
   "metadata": {},
   "outputs": [
    {
     "name": "stdout",
     "output_type": "stream",
     "text": [
      "0.4887084376474706\n",
      "0.1705657569458532\n"
     ]
    }
   ],
   "source": [
    "import numpy as np\n",
    "import matplotlib.pyplot as plt\n",
    "from matplotlib import animation\n",
    "from matplotlib import colors\n",
    "import random\n",
    "\n",
    "empty, tree, fire = 0, 1, 2\n",
    "neighbours = ((-1, 0), (1, 0), (0, 1), (0, -1))\n",
    "# probability of planting a tree\n",
    "p_tree = random.uniform(0.35, 0.55)\n",
    "print(p_tree)\n",
    "# probability of catching a fire\n",
    "p_fire = random.uniform(0.05, 0.25)\n",
    "print(p_fire)"
   ]
  },
  {
   "cell_type": "code",
   "execution_count": 205,
   "id": "491bab26",
   "metadata": {},
   "outputs": [],
   "source": [
    "def init_forest(nx, ny):\n",
    "    \"\"\"Create a forest as a grid of n x m size. \n",
    "    \n",
    "    Input:\n",
    "    n (int): width of forest grid.\n",
    "    m (int): height of forest grid.\n",
    "    tree_density (int): initial highest density of trees in forest.\n",
    "    \n",
    "    Output:\n",
    "    n x m forest grid.\"\"\"\n",
    "    \n",
    "    forest = np.zeros((nx, ny), dtype=int)\n",
    "    forest[1:nx-1, 1:ny-1] = np.random.randint(0, 2, size=(nx-2, ny-2)) \n",
    "    \n",
    "    return forest "
   ]
  },
  {
   "cell_type": "code",
   "execution_count": 206,
   "id": "308b5256",
   "metadata": {},
   "outputs": [
    {
     "data": {
      "text/plain": [
       "array([[0, 0, 0, 0, 0],\n",
       "       [0, 1, 0, 1, 0],\n",
       "       [0, 1, 0, 1, 0],\n",
       "       [0, 0, 0, 1, 0],\n",
       "       [0, 0, 0, 0, 0]])"
      ]
     },
     "execution_count": 206,
     "metadata": {},
     "output_type": "execute_result"
    }
   ],
   "source": [
    "forest = init_forest(5, 5)\n",
    "forest"
   ]
  },
  {
   "cell_type": "code",
   "execution_count": 207,
   "id": "098c1fe4",
   "metadata": {},
   "outputs": [
    {
     "data": {
      "text/plain": [
       "0.3125"
      ]
     },
     "execution_count": 207,
     "metadata": {},
     "output_type": "execute_result"
    }
   ],
   "source": [
    "# tree density\n",
    "np.count_nonzero(forest == 1) / 16"
   ]
  },
  {
   "cell_type": "code",
   "execution_count": 242,
   "id": "86797471",
   "metadata": {},
   "outputs": [],
   "source": [
    "def iterate(forest):\n",
    "    \n",
    "    nx = forest.shape[0]\n",
    "    ny = forest.shape[1]\n",
    "    \n",
    "    #forest at following time step\n",
    "    forest_t1 = np.zeros((nx, ny), dtype=int)\n",
    "    \n",
    "    for x in range(1, nx-1):\n",
    "        for y in range(1, ny-1):\n",
    "            if forest[x,y] == empty and np.random.random() <= p_tree:\n",
    "                forest_t1[x,y] = tree\n",
    "            elif forest[x,y] == tree:\n",
    "                forest_t1[x,y] = tree\n",
    "                \n",
    "                for i,j in neighbours:\n",
    "                    if forest[x+i,y+j] == fire:\n",
    "                        forest_t1[x,y] = fire\n",
    "                        break\n",
    "                    else:\n",
    "                        # if exceed the threshold of setting a fire\n",
    "                        if np.random.random() <= p_fire:\n",
    "                            forest_t1[x,y] = fire\n",
    "    return forest_t1"
   ]
  },
  {
   "cell_type": "code",
   "execution_count": 243,
   "id": "602853dd",
   "metadata": {},
   "outputs": [
    {
     "name": "stdout",
     "output_type": "stream",
     "text": [
      "[[0 0 0 0 0]\n",
      " [0 1 0 1 0]\n",
      " [0 1 0 1 0]\n",
      " [0 0 0 1 0]\n",
      " [0 0 0 0 0]]\n"
     ]
    }
   ],
   "source": [
    "print(forest)"
   ]
  },
  {
   "cell_type": "code",
   "execution_count": 244,
   "id": "c187b567",
   "metadata": {},
   "outputs": [
    {
     "name": "stdout",
     "output_type": "stream",
     "text": [
      "[[0 0 0 0 0]\n",
      " [0 2 0 1 0]\n",
      " [0 2 1 1 0]\n",
      " [0 0 0 2 0]\n",
      " [0 0 0 0 0]]\n"
     ]
    }
   ],
   "source": [
    "print(iterate(forest))"
   ]
  },
  {
   "cell_type": "code",
   "execution_count": null,
   "id": "463c677e",
   "metadata": {},
   "outputs": [],
   "source": []
  }
 ],
 "metadata": {
  "kernelspec": {
   "display_name": "Python 3",
   "language": "python",
   "name": "python3"
  },
  "language_info": {
   "codemirror_mode": {
    "name": "ipython",
    "version": 3
   },
   "file_extension": ".py",
   "mimetype": "text/x-python",
   "name": "python",
   "nbconvert_exporter": "python",
   "pygments_lexer": "ipython3",
   "version": "3.8.8"
  }
 },
 "nbformat": 4,
 "nbformat_minor": 5
}
