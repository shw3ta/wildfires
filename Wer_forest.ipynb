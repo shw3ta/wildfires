{
 "cells": [
  {
   "cell_type": "code",
   "execution_count": 82,
   "id": "c10f2017",
   "metadata": {},
   "outputs": [],
   "source": [
    "import numpy as np\n",
    "import matplotlib.pyplot as plt\n",
    "import random\n",
    "import agentpy as ap\n",
    "from matplotlib import colors"
   ]
  },
  {
   "cell_type": "code",
   "execution_count": 83,
   "id": "ce311d50",
   "metadata": {},
   "outputs": [],
   "source": [
    "from datetime import datetime\n",
    "\n",
    "# file to store outputs, in sequential order for now\n",
    "file = open(\"log_prelim.txt\", \"a+\")\n",
    "\n",
    "\n",
    "# basic square forest\n",
    "# each cell has 3 possible states: 0, 1, 2 corresponding to empty, tree, fire\n",
    "\n",
    "# this class is not done, I keep adding properties after testing them out individually\n",
    "class square_forest:\n",
    "\t# ideally evolves till full destruction, but we can set a hard limit on time\n",
    "\n",
    "\tdef __init__(self):\n",
    "\t\tself.dim = int(input(\"\\nEnter dimension of your square forest: \"))\n",
    "\t\tself.cells = np.zeros((self.dim, self.dim))\n",
    "\t\tprint(f\"\\npre-init of forest grid \\n{self.cells}\\n\")\n",
    "\t\tself.burnt = [] # not really a property, just easier to not pass this hehe\n",
    "\n",
    "\t\n",
    "\t# def set_dim(self):\n",
    "\t# \tself.dim = int(input(\"\\nEnter dimension of your square forest: \"))\n",
    "\t\n",
    "\t\n",
    "\tdef init_cells(self):\n",
    "\t\t# random init with some number of trees; upper limit = dim * dim\n",
    "\t\tn_max = np.random.randint(self.dim * self.dim) \n",
    "\n",
    "\t\tloc_trees = set()\n",
    "\t\tfor i in range(n_max):\n",
    "\t\t\tcoords = tuple(np.random.randint(self.dim, size=2))\n",
    "\t\t\tloc_trees.add(coords)\n",
    "\t\t\t\n",
    "\t\t\n",
    "\t\tfor tree in loc_trees:\n",
    "\t\t\t# note here that the actual no. of trees in the init config is <= n_trees since the guessed locations need not be unique\n",
    "\t\t\tself.cells[tree[0], tree[1]] = 1\n",
    "\n",
    "\t\tprint(f\"\\nafter random tree planting: \\n{self.cells}\")\n",
    "\t\n",
    "#-------------------------------------------------------------------------------"
   ]
  },
  {
   "cell_type": "code",
   "execution_count": 84,
   "id": "1f1f708e",
   "metadata": {},
   "outputs": [],
   "source": [
    "def init_forest(dim):\t\n",
    "\t\"\"\"Create a forest as a grid of dim x dim size. \n",
    "    \n",
    "    Input:\n",
    "    dim (int): dimension of the forest grid.\n",
    "    \n",
    "    Output:\n",
    "    dim x dim forest grid with randomly planted trees.\"\"\"\n",
    "    \n",
    "\tforest = np.zeros((dim, dim))\n",
    "\tn_trees = np.random.randint(dim * dim)\n",
    "\n",
    "\tloc_trees = set()\n",
    "\tfor i in range(n_trees):\n",
    "\t\tcoords = np.random.randint(dim, size=2)\n",
    "\t\tloc_trees.add(tuple(coords))\n",
    "\t\t\n",
    "\t\n",
    "\tfor tree in loc_trees:\n",
    "\t\tforest[tree[0], tree[1]] = 1\n",
    "\n",
    "\tprint(\"\\n Here is the initial forest config:\\n\", forest)\n",
    "\treturn forest\n"
   ]
  },
  {
   "cell_type": "code",
   "execution_count": 85,
   "id": "ddeb7129",
   "metadata": {},
   "outputs": [],
   "source": [
    "def get_valid_neighbours(cell, forest, dim):\n",
    "\tprint(\"\\nEntered get_valid_neighbours()\")\n",
    "\t\n",
    "\trow, col = cell[0], cell[1]\n",
    "\tif row < 0 : \n",
    "\t\traise Exception(\"negative row index encountered\")\n",
    "\n",
    "\telif col < 0 : \n",
    "\t\traise Exception(\"negative column index encountered\")\n",
    "\n",
    "\telif row >= dim : \n",
    "\t\traise Exception(\"row index out of dimension bounds\")\n",
    "\n",
    "\telif col >= dim : \n",
    "\t\traise Exception(\"column index out of dimension bounds\")\n",
    "\n",
    "\telse:\n",
    "\n",
    "\t\tneighbours = [(row - 1, col), (row + 1, col), (row, col - 1), (row, col + 1)]\n",
    "\t\tprint(\"\\n -- adjacent cells indices are: \", neighbours)\n",
    "\n",
    "\n",
    "\t\tfor i, (r, c) in enumerate(neighbours):\n",
    "\t\t\tif r < 0 or c < 0 or r == dim or c == dim:\n",
    "\t\t\t\tneighbours[i] = None\n",
    "\t\t\telif forest[r, c] != 1 :\n",
    "\t\t\t\tneighbours[i] = None\n",
    "\n",
    "\t\tprint(\"\\n -- after None-ifying non tree cells and invalid edge cases: \", neighbours)\n",
    "\n",
    "\t\tvalid_neighbours = []\n",
    "\t\tfor n in neighbours:\n",
    "\t\t\tif n != None:\n",
    "\t\t\t\tvalid_neighbours.append(n)\n",
    "\n",
    "\t\tprint(\"\\n Final valid list: \", valid_neighbours)\n",
    "\t\treturn valid_neighbours\n"
   ]
  },
  {
   "cell_type": "code",
   "execution_count": 86,
   "id": "e6063a6f",
   "metadata": {},
   "outputs": [],
   "source": [
    "def pick_fire_location(dim):\n",
    "\treturn np.random.randint(dim, size=2)\n"
   ]
  },
  {
   "cell_type": "code",
   "execution_count": 87,
   "id": "640175af",
   "metadata": {},
   "outputs": [],
   "source": [
    "def spread_to(valid_neighbours, forest, dim, burnt):\n",
    "\n",
    "\tprint(\"\\n---------------------------\\nThe next degree neighbours are at: \", valid_neighbours)\n",
    "\t\n",
    "\t# now we burn all of them:\n",
    "\tfor (row, col) in valid_neighbours:\n",
    "\t\t# decimate: first set to 2\n",
    "\t\tforest[row, col] = 2\n",
    "\t\tburnt.append((row, col))\n",
    "\tprint(\"\\n incendio \\n\", forest)\n",
    "\n",
    "\t# spread to second degree neighbours\n",
    "\tfor cell in valid_neighbours:\n",
    "\t\tnext_neighbours = get_valid_neighbours(cell, forest, dim)\n",
    "\t\tif len(next_neighbours) != 0: # i.e has somewhere to spread to\n",
    "\t\t\tspread_to(next_neighbours, forest, dim, burnt)\n",
    "\n",
    "\tprint(\"\\n----------DONE RECURSING---------\")"
   ]
  },
  {
   "cell_type": "code",
   "execution_count": 88,
   "id": "1e5131a6",
   "metadata": {},
   "outputs": [],
   "source": [
    "def simulate_one_fire(dim):\n",
    "\t'''\n",
    "\tat the moment, this inits the forest, but ideally, it should inherit a forest instance where multiple fires can occur following the frequency parameter\n",
    "\n",
    "\tcollects/returns area information as a diagnostic, should put it into a file with simulation number and details of the simulation\n",
    "\t'''\n",
    "\tforest = init_forest(dim)\n",
    "\tfile.write(f\"\\nEntry time: {datetime.now()}\\nInitial config: {forest}\")\n",
    "\t\n",
    "\tfire_at = pick_fire_location(dim)\n",
    "\tfile.write(f\"\\nFire started at: {fire_at}\")\n",
    "\tburnt = []\n",
    "\n",
    "\t# 0 means empty cell, 1 means cell has a tree\n",
    "\tforest[fire_at[0], fire_at[1]] = 2 \n",
    "\tprint(f\"\\n fire started at {fire_at}: \\n\", forest)\n",
    "\tburnt.append(fire_at)\t\n",
    "\n",
    "\t# start and spread\n",
    "\tneighbours = get_valid_neighbours(fire_at, forest, dim)\n",
    "\tspread_to(neighbours, forest, dim, burnt)\n",
    "\n",
    "\t# go to all burnt sites and set them to 0 at the end of one spread.\n",
    "\tfor (r, c) in burnt:\n",
    "\t\tforest[r, c] = 0\n",
    "\n",
    "\tprint(\"\\n After the damage:\\n \", forest)\n",
    "\tarea_burnt = len(burnt) # in cells; assuming one cell == one square unit of area\n",
    "\t# print(f\"\\nArea burnt in this fire: {area_burnt} sq. units.\\n\")\n",
    "\n",
    "\treturn area_burnt"
   ]
  },
  {
   "cell_type": "code",
   "execution_count": 89,
   "id": "d26de21a",
   "metadata": {},
   "outputs": [],
   "source": [
    "def plant_tree(forest):\n",
    "\n",
    "    while True:\n",
    "        coords = np.random.randint(forest.shape[0], size=2)\n",
    "        if forest[coords[0], coords[1]] == 1:\n",
    "            continue\n",
    "        else:\n",
    "            forest[coords[0], coords[1]] = 1\n",
    "            break\n",
    "\n",
    "    return forest"
   ]
  },
  {
   "cell_type": "code",
   "execution_count": 90,
   "id": "ec309d7c",
   "metadata": {},
   "outputs": [],
   "source": [
    "#dim = int(input(\"\\nEnter the dimension of the forest you want to simulate: \"))\n",
    "#damage = simulate_one_fire(dim)"
   ]
  },
  {
   "cell_type": "code",
   "execution_count": 91,
   "id": "ff69ba1b",
   "metadata": {},
   "outputs": [],
   "source": [
    "def grid_collector(param):\n",
    "    grid_coll = []\n",
    "    if param==\"slow\":\n",
    "        grid_coll = grid_coll.append(self.cells)"
   ]
  },
  {
   "cell_type": "code",
   "execution_count": 92,
   "id": "c28bb665",
   "metadata": {},
   "outputs": [],
   "source": [
    "def plant_tree(forest):\n",
    "\n",
    "    while True:\n",
    "        coords = np.random.randint(forest.shape[0], size=2)\n",
    "        if forest[coords[0], coords[1]] == 1:\n",
    "            continue\n",
    "        else:\n",
    "            forest[coords[0], coords[1]] = 1\n",
    "            break\n",
    "\n",
    "    return forest"
   ]
  },
  {
   "cell_type": "code",
   "execution_count": 209,
   "id": "457941ee",
   "metadata": {},
   "outputs": [
    {
     "name": "stdout",
     "output_type": "stream",
     "text": [
      "\n",
      " Here is the initial forest config:\n",
      " [[0. 0. 0. 0. 0.]\n",
      " [0. 0. 0. 0. 0.]\n",
      " [0. 0. 0. 0. 0.]\n",
      " [0. 0. 0. 0. 0.]\n",
      " [0. 0. 0. 1. 0.]]\n"
     ]
    },
    {
     "data": {
      "text/plain": [
       "<matplotlib.image.AxesImage at 0x20820c1da90>"
      ]
     },
     "execution_count": 209,
     "metadata": {},
     "output_type": "execute_result"
    },
    {
     "data": {
      "image/png": "[encoded data removed]",
      "text/plain": [
       "<Figure size 432x288 with 1 Axes>"
      ]
     },
     "metadata": {
      "needs_background": "light"
     },
     "output_type": "display_data"
    }
   ],
   "source": [
    "forest = init_forest(5)\n",
    "plt.imshow(forest)"
   ]
  },
  {
   "cell_type": "code",
   "execution_count": 210,
   "id": "9cec1e96",
   "metadata": {},
   "outputs": [],
   "source": [
    "grid_collector = []\n",
    "\n",
    "\n",
    "## If I add forest here, the entire thing brokes\n",
    "\n",
    "#grid_collector.append(forest)\n",
    "#plt.imshow(grid_collector[0])"
   ]
  },
  {
   "cell_type": "code",
   "execution_count": 211,
   "id": "d570f9b7",
   "metadata": {},
   "outputs": [
    {
     "data": {
      "image/png": "[encoded data removed]",
      "text/plain": [
       "<Figure size 432x288 with 1 Axes>"
      ]
     },
     "metadata": {
      "needs_background": "light"
     },
     "output_type": "display_data"
    },
    {
     "data": {
      "image/png": "[encoded data removed]",
      "text/plain": [
       "<Figure size 432x288 with 1 Axes>"
      ]
     },
     "metadata": {
      "needs_background": "light"
     },
     "output_type": "display_data"
    },
    {
     "data": {
      "image/png": "[encoded data removed]",
      "text/plain": [
       "<Figure size 432x288 with 1 Axes>"
      ]
     },
     "metadata": {
      "needs_background": "light"
     },
     "output_type": "display_data"
    },
    {
     "data": {
      "image/png": "[encoded data removed]",
      "text/plain": [
       "<Figure size 432x288 with 1 Axes>"
      ]
     },
     "metadata": {
      "needs_background": "light"
     },
     "output_type": "display_data"
    },
    {
     "data": {
      "image/png": "[encoded data removed]",
      "text/plain": [
       "<Figure size 432x288 with 1 Axes>"
      ]
     },
     "metadata": {
      "needs_background": "light"
     },
     "output_type": "display_data"
    },
    {
     "data": {
      "image/png": "[encoded data removed]",
      "text/plain": [
       "<Figure size 432x288 with 1 Axes>"
      ]
     },
     "metadata": {
      "needs_background": "light"
     },
     "output_type": "display_data"
    }
   ],
   "source": [
    "color_dict = {0:'wheat', 1:'yellowgreen', 2:'darkorange'}\n",
    "\n",
    "for i in range(6):\n",
    "    plant_tree(forest)\n",
    "    plt.imshow(forest)\n",
    "    plt.show()\n",
    "    grid_collector.append(forest.copy())\n"
   ]
  },
  {
   "cell_type": "code",
   "execution_count": 212,
   "id": "27743fbd",
   "metadata": {},
   "outputs": [
    {
     "name": "stdout",
     "output_type": "stream",
     "text": [
      "[[0. 0. 0. 0. 0.]\n",
      " [0. 0. 1. 0. 0.]\n",
      " [0. 0. 0. 0. 0.]\n",
      " [0. 0. 0. 0. 0.]\n",
      " [0. 0. 0. 1. 0.]]\n"
     ]
    },
    {
     "data": {
      "image/png": "[encoded data removed]",
      "text/plain": [
       "<Figure size 432x288 with 1 Axes>"
      ]
     },
     "metadata": {
      "needs_background": "light"
     },
     "output_type": "display_data"
    },
    {
     "name": "stdout",
     "output_type": "stream",
     "text": [
      "[[0. 0. 0. 0. 0.]\n",
      " [0. 0. 1. 1. 0.]\n",
      " [0. 0. 0. 0. 0.]\n",
      " [0. 0. 0. 0. 0.]\n",
      " [0. 0. 0. 1. 0.]]\n"
     ]
    },
    {
     "data": {
      "image/png": "[encoded data removed]",
      "text/plain": [
       "<Figure size 432x288 with 1 Axes>"
      ]
     },
     "metadata": {
      "needs_background": "light"
     },
     "output_type": "display_data"
    },
    {
     "name": "stdout",
     "output_type": "stream",
     "text": [
      "[[0. 0. 0. 0. 0.]\n",
      " [0. 0. 1. 1. 0.]\n",
      " [0. 0. 0. 0. 0.]\n",
      " [0. 0. 0. 0. 0.]\n",
      " [1. 0. 0. 1. 0.]]\n"
     ]
    },
    {
     "data": {
      "image/png": "[encoded data removed]",
      "text/plain": [
       "<Figure size 432x288 with 1 Axes>"
      ]
     },
     "metadata": {
      "needs_background": "light"
     },
     "output_type": "display_data"
    },
    {
     "name": "stdout",
     "output_type": "stream",
     "text": [
      "[[0. 0. 0. 0. 0.]\n",
      " [0. 0. 1. 1. 1.]\n",
      " [0. 0. 0. 0. 0.]\n",
      " [0. 0. 0. 0. 0.]\n",
      " [1. 0. 0. 1. 0.]]\n"
     ]
    },
    {
     "data": {
      "image/png": "[encoded data removed]",
      "text/plain": [
       "<Figure size 432x288 with 1 Axes>"
      ]
     },
     "metadata": {
      "needs_background": "light"
     },
     "output_type": "display_data"
    },
    {
     "name": "stdout",
     "output_type": "stream",
     "text": [
      "[[1. 0. 0. 0. 0.]\n",
      " [0. 0. 1. 1. 1.]\n",
      " [0. 0. 0. 0. 0.]\n",
      " [0. 0. 0. 0. 0.]\n",
      " [1. 0. 0. 1. 0.]]\n"
     ]
    },
    {
     "data": {
      "image/png": "[encoded data removed]",
      "text/plain": [
       "<Figure size 432x288 with 1 Axes>"
      ]
     },
     "metadata": {
      "needs_background": "light"
     },
     "output_type": "display_data"
    },
    {
     "name": "stdout",
     "output_type": "stream",
     "text": [
      "[[1. 0. 0. 0. 1.]\n",
      " [0. 0. 1. 1. 1.]\n",
      " [0. 0. 0. 0. 0.]\n",
      " [0. 0. 0. 0. 0.]\n",
      " [1. 0. 0. 1. 0.]]\n"
     ]
    },
    {
     "data": {
      "image/png": "[encoded data removed]",
      "text/plain": [
       "<Figure size 432x288 with 1 Axes>"
      ]
     },
     "metadata": {
      "needs_background": "light"
     },
     "output_type": "display_data"
    }
   ],
   "source": [
    "## for some reason it takes only the final forest, not each iteration\n",
    "## why even grid_collector[0] is overwritten by the final state?\n",
    "\n",
    "for i in grid_collector:\n",
    "    print(i)\n",
    "    plt.imshow(i)\n",
    "    plt.show()"
   ]
  },
  {
   "cell_type": "code",
   "execution_count": 213,
   "id": "60991b1f",
   "metadata": {},
   "outputs": [
    {
     "data": {
      "text/plain": [
       "(6, 5, 5)"
      ]
     },
     "execution_count": 213,
     "metadata": {},
     "output_type": "execute_result"
    }
   ],
   "source": [
    "np.shape(grid_collector)"
   ]
  },
  {
   "cell_type": "code",
   "execution_count": 214,
   "id": "a178007d",
   "metadata": {},
   "outputs": [
    {
     "data": {
      "text/plain": [
       "numpy.ndarray"
      ]
     },
     "execution_count": 214,
     "metadata": {},
     "output_type": "execute_result"
    }
   ],
   "source": [
    "grid_collector_arr = np.array(grid_collector)\n",
    "# .astype('uint8')\n",
    "type(grid_collector_arr)"
   ]
  },
  {
   "cell_type": "code",
   "execution_count": 215,
   "id": "3945f429",
   "metadata": {},
   "outputs": [
    {
     "data": {
      "text/plain": [
       "<matplotlib.image.AxesImage at 0x208220b77f0>"
      ]
     },
     "execution_count": 215,
     "metadata": {},
     "output_type": "execute_result"
    },
    {
     "data": {
      "image/png": "[encoded data removed]",
      "text/plain": [
       "<Figure size 432x288 with 1 Axes>"
      ]
     },
     "metadata": {
      "needs_background": "light"
     },
     "output_type": "display_data"
    }
   ],
   "source": [
    "from skimage import io, color, data\n",
    "from skimage import graph\n",
    "\n",
    "\n",
    "\n",
    "io.imshow(grid_collector_arr[0])"
   ]
  },
  {
   "cell_type": "code",
   "execution_count": 218,
   "id": "86d765ce",
   "metadata": {},
   "outputs": [
    {
     "data": {
      "image/png": "[encoded data removed]",
      "text/plain": [
       "<Figure size 432x288 with 6 Axes>"
      ]
     },
     "execution_count": 218,
     "metadata": {},
     "output_type": "execute_result"
    },
    {
     "data": {
      "image/png": "[encoded data removed]",
      "text/plain": [
       "<Figure size 432x288 with 6 Axes>"
      ]
     },
     "metadata": {
      "needs_background": "light"
     },
     "output_type": "display_data"
    }
   ],
   "source": [
    "io.imshow_collection(grid_collector_arr)"
   ]
  },
  {
   "cell_type": "code",
   "execution_count": 219,
   "id": "3cc092f1",
   "metadata": {},
   "outputs": [],
   "source": [
    "import PIL\n",
    "from PIL import Image\n",
    "\n",
    "# https://pillow.readthedocs.io/en/stable/reference/Image.html\n",
    "\n",
    "img = Image.fromarray(grid_collector_arr[0], mode='RGB')\n",
    "img.show() #doesn't work"
   ]
  },
  {
   "cell_type": "code",
   "execution_count": 14,
   "id": "32b50956",
   "metadata": {},
   "outputs": [
    {
     "data": {
      "text/plain": [
       "<matplotlib.image.AxesImage at 0x1fafcc7b2b0>"
      ]
     },
     "execution_count": 14,
     "metadata": {},
     "output_type": "execute_result"
    },
    {
     "data": {
      "image/png": "[encoded data removed]",
      "text/plain": [
       "<Figure size 432x288 with 1 Axes>"
      ]
     },
     "metadata": {
      "needs_background": "light"
     },
     "output_type": "display_data"
    }
   ],
   "source": [
    "fig, ax = plt.subplots()\n",
    "#plt.figure(figsize=(6,6))\n",
    "color_dict = {0:'wheat', 1:'yellowgreen', 2:'darkorange'}\n",
    "ap.gridplot(forest, ax=ax, color_dict=color_dict, convert=True)\n"
   ]
  },
  {
   "cell_type": "code",
   "execution_count": null,
   "id": "463c677e",
   "metadata": {},
   "outputs": [],
   "source": []
  }
 ],
 "metadata": {
  "kernelspec": {
   "display_name": "Python 3",
   "language": "python",
   "name": "python3"
  },
  "language_info": {
   "codemirror_mode": {
    "name": "ipython",
    "version": 3
   },
   "file_extension": ".py",
   "mimetype": "text/x-python",
   "name": "python",
   "nbconvert_exporter": "python",
   "pygments_lexer": "ipython3",
   "version": "3.9.6"
  }
 },
 "nbformat": 4,
 "nbformat_minor": 5
}
