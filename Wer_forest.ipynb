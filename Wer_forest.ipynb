{
 "cells": [
  {
   "cell_type": "code",
   "execution_count": 1,
   "id": "c10f2017",
   "metadata": {},
   "outputs": [],
   "source": [
    "import numpy as np\n",
    "import matplotlib.pyplot as plt\n",
    "import random\n",
    "import agentpy as ap\n",
    "from matplotlib import colors"
   ]
  },
  {
   "cell_type": "code",
   "execution_count": 3,
   "id": "ce311d50",
   "metadata": {},
   "outputs": [],
   "source": [
    "from datetime import datetime\n",
    "\n",
    "# file to store outputs, in sequential order for now\n",
    "file = open(\"log_prelim.txt\", \"a+\")\n",
    "\n",
    "\n",
    "# basic square forest\n",
    "# each cell has 3 possible states: 0, 1, 2 corresponding to empty, tree, fire\n",
    "\n",
    "# this class is not done, I keep adding properties after testing them out individually\n",
    "class square_forest:\n",
    "\t# ideally evolves till full destruction, but we can set a hard limit on time\n",
    "\n",
    "\tdef __init__(self):\n",
    "\t\tself.dim = int(input(\"\\nEnter dimension of your square forest: \"))\n",
    "\t\tself.cells = np.zeros((self.dim, self.dim))\n",
    "\t\tprint(f\"\\npre-init of forest grid \\n{self.cells}\\n\")\n",
    "\t\tself.burnt = [] # not really a property, just easier to not pass this hehe\n",
    "\n",
    "\t\n",
    "\t# def set_dim(self):\n",
    "\t# \tself.dim = int(input(\"\\nEnter dimension of your square forest: \"))\n",
    "\t\n",
    "\t\n",
    "\tdef init_cells(self):\n",
    "\t\t# random init with some number of trees; upper limit = dim * dim\n",
    "\t\tn_max = np.random.randint(self.dim * self.dim) \n",
    "\n",
    "\t\tloc_trees = set()\n",
    "\t\tfor i in range(n_max):\n",
    "\t\t\tcoords = tuple(np.random.randint(self.dim, size=2))\n",
    "\t\t\tloc_trees.add(coords)\n",
    "\t\t\t\n",
    "\t\t\n",
    "\t\tfor tree in loc_trees:\n",
    "\t\t\t# note here that the actual no. of trees in the init config is <= n_trees since the guessed locations need not be unique\n",
    "\t\t\tself.cells[tree[0], tree[1]] = 1\n",
    "\n",
    "\t\tprint(f\"\\nafter random tree planting: \\n{self.cells}\")\n",
    "\t\n",
    "#-------------------------------------------------------------------------------"
   ]
  },
  {
   "cell_type": "code",
   "execution_count": 4,
   "id": "1f1f708e",
   "metadata": {},
   "outputs": [],
   "source": [
    "def init_forest(dim):\t\n",
    "\t\"\"\"Create a forest as a grid of dim x dim size. \n",
    "    \n",
    "    Input:\n",
    "    dim (int): dimension of the forest grid.\n",
    "    \n",
    "    Output:\n",
    "    dim x dim forest grid with randomly planted trees.\"\"\"\n",
    "    \n",
    "\tforest = np.zeros((dim, dim))\n",
    "\tn_trees = np.random.randint(dim * dim)\n",
    "\n",
    "\tloc_trees = set()\n",
    "\tfor i in range(n_trees):\n",
    "\t\tcoords = np.random.randint(dim, size=2)\n",
    "\t\tloc_trees.add(tuple(coords))\n",
    "\t\t\n",
    "\t\n",
    "\tfor tree in loc_trees:\n",
    "\t\tforest[tree[0], tree[1]] = 1\n",
    "\n",
    "\tprint(\"\\n Here is the initial forest config:\\n\", forest)\n",
    "\treturn forest\n"
   ]
  },
  {
   "cell_type": "code",
   "execution_count": 5,
   "id": "ddeb7129",
   "metadata": {},
   "outputs": [],
   "source": [
    "def get_valid_neighbours(cell, forest, dim):\n",
    "\tprint(\"\\nEntered get_valid_neighbours()\")\n",
    "\t\n",
    "\trow, col = cell[0], cell[1]\n",
    "\tif row < 0 : \n",
    "\t\traise Exception(\"negative row index encountered\")\n",
    "\n",
    "\telif col < 0 : \n",
    "\t\traise Exception(\"negative column index encountered\")\n",
    "\n",
    "\telif row >= dim : \n",
    "\t\traise Exception(\"row index out of dimension bounds\")\n",
    "\n",
    "\telif col >= dim : \n",
    "\t\traise Exception(\"column index out of dimension bounds\")\n",
    "\n",
    "\telse:\n",
    "\n",
    "\t\tneighbours = [(row - 1, col), (row + 1, col), (row, col - 1), (row, col + 1)]\n",
    "\t\tprint(\"\\n -- adjacent cells indices are: \", neighbours)\n",
    "\n",
    "\n",
    "\t\tfor i, (r, c) in enumerate(neighbours):\n",
    "\t\t\tif r < 0 or c < 0 or r == dim or c == dim:\n",
    "\t\t\t\tneighbours[i] = None\n",
    "\t\t\telif forest[r, c] != 1 :\n",
    "\t\t\t\tneighbours[i] = None\n",
    "\n",
    "\t\tprint(\"\\n -- after None-ifying non tree cells and invalid edge cases: \", neighbours)\n",
    "\n",
    "\t\tvalid_neighbours = []\n",
    "\t\tfor n in neighbours:\n",
    "\t\t\tif n != None:\n",
    "\t\t\t\tvalid_neighbours.append(n)\n",
    "\n",
    "\t\tprint(\"\\n Final valid list: \", valid_neighbours)\n",
    "\t\treturn valid_neighbours\n"
   ]
  },
  {
   "cell_type": "code",
   "execution_count": 6,
   "id": "e6063a6f",
   "metadata": {},
   "outputs": [],
   "source": [
    "def pick_fire_location(dim):\n",
    "\treturn np.random.randint(dim, size=2)\n"
   ]
  },
  {
   "cell_type": "code",
   "execution_count": 7,
   "id": "640175af",
   "metadata": {},
   "outputs": [],
   "source": [
    "def spread_to(valid_neighbours, forest, dim, burnt):\n",
    "\n",
    "\tprint(\"\\n---------------------------\\nThe next degree neighbours are at: \", valid_neighbours)\n",
    "\t\n",
    "\t# now we burn all of them:\n",
    "\tfor (row, col) in valid_neighbours:\n",
    "\t\t# decimate: first set to 2\n",
    "\t\tforest[row, col] = 2\n",
    "\t\tburnt.append((row, col))\n",
    "\tprint(\"\\n incendio \\n\", forest)\n",
    "\n",
    "\t# spread to second degree neighbours\n",
    "\tfor cell in valid_neighbours:\n",
    "\t\tnext_neighbours = get_valid_neighbours(cell, forest, dim)\n",
    "\t\tif len(next_neighbours) != 0: # i.e has somewhere to spread to\n",
    "\t\t\tspread_to(next_neighbours, forest, dim, burnt)\n",
    "\n",
    "\tprint(\"\\n----------DONE RECURSING---------\")"
   ]
  },
  {
   "cell_type": "code",
   "execution_count": 8,
   "id": "1e5131a6",
   "metadata": {},
   "outputs": [],
   "source": [
    "def simulate_one_fire(dim):\n",
    "\t'''\n",
    "\tat the moment, this inits the forest, but ideally, it should inherit a forest instance where multiple fires can occur following the frequency parameter\n",
    "\n",
    "\tcollects/returns area information as a diagnostic, should put it into a file with simulation number and details of the simulation\n",
    "\t'''\n",
    "\tforest = init_forest(dim)\n",
    "\tfile.write(f\"\\nEntry time: {datetime.now()}\\nInitial config: {forest}\")\n",
    "\t\n",
    "\tfire_at = pick_fire_location(dim)\n",
    "\tfile.write(f\"\\nFire started at: {fire_at}\")\n",
    "\tburnt = []\n",
    "\n",
    "\t# 0 means empty cell, 1 means cell has a tree\n",
    "\tforest[fire_at[0], fire_at[1]] = 2 \n",
    "\tprint(f\"\\n fire started at {fire_at}: \\n\", forest)\n",
    "\tburnt.append(fire_at)\t\n",
    "\n",
    "\t# start and spread\n",
    "\tneighbours = get_valid_neighbours(fire_at, forest, dim)\n",
    "\tspread_to(neighbours, forest, dim, burnt)\n",
    "\n",
    "\t# go to all burnt sites and set them to 0 at the end of one spread.\n",
    "\tfor (r, c) in burnt:\n",
    "\t\tforest[r, c] = 0\n",
    "\n",
    "\tprint(\"\\n After the damage:\\n \", forest)\n",
    "\tarea_burnt = len(burnt) # in cells; assuming one cell == one square unit of area\n",
    "\t# print(f\"\\nArea burnt in this fire: {area_burnt} sq. units.\\n\")\n",
    "\n",
    "\treturn area_burnt"
   ]
  },
  {
   "cell_type": "code",
   "execution_count": 9,
   "id": "d26de21a",
   "metadata": {},
   "outputs": [],
   "source": [
    "def plant_tree(forest):\n",
    "\n",
    "    while True:\n",
    "        coords = np.random.randint(forest.shape[0], size=2)\n",
    "        if forest[coords[0], coords[1]] == 1:\n",
    "            continue\n",
    "        else:\n",
    "            forest[coords[0], coords[1]] = 1\n",
    "            break\n",
    "\n",
    "    return forest"
   ]
  },
  {
   "cell_type": "code",
   "execution_count": 10,
   "id": "ec309d7c",
   "metadata": {},
   "outputs": [
    {
     "name": "stdout",
     "output_type": "stream",
     "text": [
      "\n",
      " Here is the initial forest config:\n",
      " [[0. 1. 1. 0. 1.]\n",
      " [0. 1. 1. 0. 0.]\n",
      " [1. 0. 0. 0. 0.]\n",
      " [0. 0. 0. 0. 0.]\n",
      " [0. 0. 1. 0. 0.]]\n",
      "\n",
      " fire started at [2 3]: \n",
      " [[0. 1. 1. 0. 1.]\n",
      " [0. 1. 1. 0. 0.]\n",
      " [1. 0. 0. 2. 0.]\n",
      " [0. 0. 0. 0. 0.]\n",
      " [0. 0. 1. 0. 0.]]\n",
      "\n",
      "Entered get_valid_neighbours()\n",
      "\n",
      " -- adjacent cells indices are:  [(1, 3), (3, 3), (2, 2), (2, 4)]\n",
      "\n",
      " -- after None-ifying non tree cells and invalid edge cases:  [None, None, None, None]\n",
      "\n",
      " Final valid list:  []\n",
      "\n",
      "---------------------------\n",
      "The next degree neighbours are at:  []\n",
      "\n",
      " incendio \n",
      " [[0. 1. 1. 0. 1.]\n",
      " [0. 1. 1. 0. 0.]\n",
      " [1. 0. 0. 2. 0.]\n",
      " [0. 0. 0. 0. 0.]\n",
      " [0. 0. 1. 0. 0.]]\n",
      "\n",
      "----------DONE RECURSING---------\n",
      "\n",
      " After the damage:\n",
      "  [[0. 1. 1. 0. 1.]\n",
      " [0. 1. 1. 0. 0.]\n",
      " [1. 0. 0. 0. 0.]\n",
      " [0. 0. 0. 0. 0.]\n",
      " [0. 0. 1. 0. 0.]]\n"
     ]
    }
   ],
   "source": [
    "dim = int(input(\"\\nEnter the dimension of the forest you want to simulate: \"))\n",
    "damage = simulate_one_fire(dim)"
   ]
  },
  {
   "cell_type": "code",
   "execution_count": null,
   "id": "ff69ba1b",
   "metadata": {},
   "outputs": [],
   "source": [
    "def grid_collector(param):\n",
    "    grid_coll = []\n",
    "    if param==\"slow\":\n",
    "        grid_coll = grid_coll.append(self.cells)"
   ]
  },
  {
   "attachments": {},
   "cell_type": "markdown",
   "id": "20e0aaea",
   "metadata": {},
   "source": [
    "### Function to plant a tree "
   ]
  },
  {
   "cell_type": "code",
   "execution_count": 14,
   "id": "c28bb665",
   "metadata": {},
   "outputs": [],
   "source": [
    "def plant_tree(forest):\n",
    "\n",
    "    while True:\n",
    "        coords = np.random.randint(forest.shape[0], size=2)\n",
    "        if forest[coords[0], coords[1]] == 1:\n",
    "            continue\n",
    "        else:\n",
    "            forest[coords[0], coords[1]] = 1\n",
    "            break\n",
    "\n",
    "    return forest"
   ]
  },
  {
   "cell_type": "code",
   "execution_count": 119,
   "id": "457941ee",
   "metadata": {},
   "outputs": [
    {
     "name": "stdout",
     "output_type": "stream",
     "text": [
      "\n",
      " Here is the initial forest config:\n",
      " [[0. 0. 0. 0. 0.]\n",
      " [0. 0. 1. 0. 0.]\n",
      " [0. 0. 0. 1. 0.]\n",
      " [0. 0. 0. 0. 0.]\n",
      " [1. 1. 0. 0. 0.]]\n"
     ]
    }
   ],
   "source": [
    "forest = init_forest(5)"
   ]
  },
  {
   "cell_type": "code",
   "execution_count": 126,
   "id": "9cec1e96",
   "metadata": {},
   "outputs": [
    {
     "data": {
      "text/plain": [
       "[]"
      ]
     },
     "execution_count": 126,
     "metadata": {},
     "output_type": "execute_result"
    }
   ],
   "source": [
    "grid_collector = []\n",
    "#grid_collector.append(forest)\n"
   ]
  },
  {
   "cell_type": "code",
   "execution_count": 133,
   "id": "5cb427f4",
   "metadata": {},
   "outputs": [
    {
     "name": "stdout",
     "output_type": "stream",
     "text": [
      "[[1. 1. 1. 0. 1.]\n",
      " [1. 1. 1. 1. 1.]\n",
      " [1. 1. 1. 1. 1.]\n",
      " [0. 1. 1. 1. 1.]\n",
      " [1. 1. 1. 1. 0.]]\n"
     ]
    },
    {
     "ename": "TypeError",
     "evalue": "cannot unpack non-iterable AxesSubplot object",
     "output_type": "error",
     "traceback": [
      "\u001b[1;31m---------------------------------------------------------------------------\u001b[0m",
      "\u001b[1;31mTypeError\u001b[0m                                 Traceback (most recent call last)",
      "\u001b[1;32m~\\AppData\\Local\\Temp/ipykernel_12324/92050808.py\u001b[0m in \u001b[0;36m<module>\u001b[1;34m\u001b[0m\n\u001b[0;32m      4\u001b[0m     \u001b[0mplant_tree\u001b[0m\u001b[1;33m(\u001b[0m\u001b[0mforest\u001b[0m\u001b[1;33m)\u001b[0m\u001b[1;33m\u001b[0m\u001b[1;33m\u001b[0m\u001b[0m\n\u001b[0;32m      5\u001b[0m     \u001b[0mprint\u001b[0m\u001b[1;33m(\u001b[0m\u001b[0mforest\u001b[0m\u001b[1;33m)\u001b[0m\u001b[1;33m\u001b[0m\u001b[1;33m\u001b[0m\u001b[0m\n\u001b[1;32m----> 6\u001b[1;33m     \u001b[0mfig\u001b[0m\u001b[1;33m,\u001b[0m \u001b[0max\u001b[0m \u001b[1;33m=\u001b[0m \u001b[0mplt\u001b[0m\u001b[1;33m.\u001b[0m\u001b[0msubplot\u001b[0m\u001b[1;33m(\u001b[0m\u001b[1;33m)\u001b[0m\u001b[1;33m\u001b[0m\u001b[1;33m\u001b[0m\u001b[0m\n\u001b[0m\u001b[0;32m      7\u001b[0m     \u001b[0map\u001b[0m\u001b[1;33m.\u001b[0m\u001b[0mgridplot\u001b[0m\u001b[1;33m(\u001b[0m\u001b[0mforest\u001b[0m\u001b[1;33m,\u001b[0m \u001b[0max\u001b[0m\u001b[1;33m=\u001b[0m\u001b[0max\u001b[0m\u001b[1;33m,\u001b[0m \u001b[0mcolor_dict\u001b[0m\u001b[1;33m=\u001b[0m\u001b[0mcolor_dict\u001b[0m\u001b[1;33m,\u001b[0m \u001b[0mconvert\u001b[0m\u001b[1;33m=\u001b[0m\u001b[1;32mTrue\u001b[0m\u001b[1;33m)\u001b[0m\u001b[1;33m\u001b[0m\u001b[1;33m\u001b[0m\u001b[0m\n\u001b[0;32m      8\u001b[0m     \u001b[1;31m#grid_collector.append(forest)\u001b[0m\u001b[1;33m\u001b[0m\u001b[1;33m\u001b[0m\u001b[1;33m\u001b[0m\u001b[0m\n",
      "\u001b[1;31mTypeError\u001b[0m: cannot unpack non-iterable AxesSubplot object"
     ]
    },
    {
     "data": {
      "image/png": "[encoded data removed]",
      "text/plain": [
       "<Figure size 432x288 with 1 Axes>"
      ]
     },
     "metadata": {
      "needs_background": "light"
     },
     "output_type": "display_data"
    }
   ],
   "source": [
    "color_dict = {0:'wheat', 1:'yellowgreen', 2:'darkorange'}\n",
    "#fix, ax = plt.subplot()\n",
    "for i in range(1, 5):\n",
    "    plant_tree(forest)\n",
    "    print(forest)\n",
    "    fig, ax = plt.subplot()\n",
    "    ap.gridplot(forest, ax=ax, color_dict=color_dict, convert=True)\n",
    "    #grid_collector.append(forest)"
   ]
  },
  {
   "cell_type": "code",
   "execution_count": 125,
   "id": "3605a3d3",
   "metadata": {},
   "outputs": [
    {
     "data": {
      "text/plain": [
       "[array([[1., 0., 0., 0., 1.],\n",
       "        [0., 0., 1., 1., 0.],\n",
       "        [1., 1., 1., 1., 0.],\n",
       "        [0., 0., 1., 0., 1.],\n",
       "        [1., 1., 0., 0., 0.]]),\n",
       " array([[1., 0., 0., 0., 1.],\n",
       "        [0., 0., 1., 1., 0.],\n",
       "        [1., 1., 1., 1., 0.],\n",
       "        [0., 0., 1., 0., 1.],\n",
       "        [1., 1., 0., 0., 0.]]),\n",
       " array([[1., 0., 0., 0., 1.],\n",
       "        [0., 0., 1., 1., 0.],\n",
       "        [1., 1., 1., 1., 0.],\n",
       "        [0., 0., 1., 0., 1.],\n",
       "        [1., 1., 0., 0., 0.]]),\n",
       " array([[1., 0., 0., 0., 1.],\n",
       "        [0., 0., 1., 1., 0.],\n",
       "        [1., 1., 1., 1., 0.],\n",
       "        [0., 0., 1., 0., 1.],\n",
       "        [1., 1., 0., 0., 0.]])]"
      ]
     },
     "execution_count": 125,
     "metadata": {},
     "output_type": "execute_result"
    }
   ],
   "source": [
    "grid_collector"
   ]
  },
  {
   "cell_type": "code",
   "execution_count": 127,
   "id": "d9fd55bf",
   "metadata": {},
   "outputs": [],
   "source": [
    "color_dict = {0:'wheat', 1:'yellowgreen', 2:'darkorange'}\n",
    "for i in range(len(grid_collector)):\n",
    "    print(grid_collector[i])\n",
    "    #fig, ax = plt.subplots()\n",
    "    #ap.gridplot(i, ax=ax, color_dict=color_dict, convert=True)\n"
   ]
  },
  {
   "cell_type": "code",
   "execution_count": 21,
   "id": "32b50956",
   "metadata": {},
   "outputs": [
    {
     "data": {
      "text/plain": [
       "<matplotlib.image.AxesImage at 0x20f835aba00>"
      ]
     },
     "execution_count": 21,
     "metadata": {},
     "output_type": "execute_result"
    }
   ],
   "source": [
    "fig, ax = plt.subplots()\n",
    "#plt.figure(figsize=(6,6))\n",
    "color_dict = {0:'wheat', 1:'yellowgreen', 2:'darkorange'}\n",
    "ap.gridplot(forest, ax=ax, color_dict=color_dict, convert=True)\n"
   ]
  },
  {
   "cell_type": "code",
   "execution_count": 33,
   "id": "528c2cfb",
   "metadata": {},
   "outputs": [
    {
     "data": {
      "text/plain": [
       "<matplotlib.image.AxesImage at 0x1694c7d3fd0>"
      ]
     },
     "execution_count": 33,
     "metadata": {},
     "output_type": "execute_result"
    },
    {
     "data": {
      "image/png": "[encoded data removed]",
      "text/plain": [
       "<Figure size 432x288 with 1 Axes>"
      ]
     },
     "metadata": {
      "needs_background": "light"
     },
     "output_type": "display_data"
    }
   ],
   "source": [
    "fig, ax = plt.subplots()\n",
    "color_dict = {0:'#7FC97F', 1:'#d62c2c', 2:'#e5e5e5', None:'#d5e5d5'}\n",
    "ap.gridplot(forest, ax=ax, color_dict=color_dict, convert=True)\n"
   ]
  },
  {
   "cell_type": "code",
   "execution_count": 50,
   "id": "a2aecab7",
   "metadata": {},
   "outputs": [
    {
     "data": {
      "text/plain": [
       "<__main__.square_forest at 0x16949dfa3d0>"
      ]
     },
     "execution_count": 50,
     "metadata": {},
     "output_type": "execute_result"
    }
   ],
   "source": [
    "forest"
   ]
  },
  {
   "cell_type": "code",
   "execution_count": null,
   "id": "f7c09314",
   "metadata": {},
   "outputs": [],
   "source": [
    "def plot(forest):\n",
    "    ..."
   ]
  },
  {
   "cell_type": "code",
   "execution_count": 48,
   "id": "098c1fe4",
   "metadata": {},
   "outputs": [
    {
     "data": {
      "text/plain": [
       "0.2648"
      ]
     },
     "execution_count": 48,
     "metadata": {},
     "output_type": "execute_result"
    }
   ],
   "source": [
    "# tree density\n",
    "np.count_nonzero(forest == 1) / (dim*dim)"
   ]
  },
  {
   "cell_type": "code",
   "execution_count": 69,
   "id": "7fe91f4a",
   "metadata": {},
   "outputs": [],
   "source": [
    "def pick_fire_location(dim):\n",
    "\treturn np.random.randint(dim, size=2)\n"
   ]
  },
  {
   "cell_type": "code",
   "execution_count": 73,
   "id": "4361f5dd",
   "metadata": {},
   "outputs": [
    {
     "name": "stdout",
     "output_type": "stream",
     "text": [
      "\n",
      "Entered get_valid_neighbours()\n"
     ]
    },
    {
     "ename": "ValueError",
     "evalue": "The truth value of an array with more than one element is ambiguous. Use a.any() or a.all()",
     "output_type": "error",
     "traceback": [
      "\u001b[1;31m---------------------------------------------------------------------------\u001b[0m",
      "\u001b[1;31mValueError\u001b[0m                                Traceback (most recent call last)",
      "\u001b[1;32m~\\AppData\\Local\\Temp/ipykernel_4192/1771355684.py\u001b[0m in \u001b[0;36m<module>\u001b[1;34m\u001b[0m\n\u001b[0;32m      1\u001b[0m \u001b[0mfire_at\u001b[0m \u001b[1;33m=\u001b[0m \u001b[0mpick_fire_location\u001b[0m\u001b[1;33m(\u001b[0m\u001b[0mforest\u001b[0m\u001b[1;33m.\u001b[0m\u001b[0mshape\u001b[0m\u001b[1;33m)\u001b[0m\u001b[1;33m\u001b[0m\u001b[1;33m\u001b[0m\u001b[0m\n\u001b[0;32m      2\u001b[0m \u001b[1;33m\u001b[0m\u001b[0m\n\u001b[1;32m----> 3\u001b[1;33m \u001b[0mget_valid_neighbours\u001b[0m\u001b[1;33m(\u001b[0m\u001b[0mfire_at\u001b[0m\u001b[1;33m,\u001b[0m \u001b[0mforest\u001b[0m\u001b[1;33m,\u001b[0m \u001b[0mforest\u001b[0m\u001b[1;33m.\u001b[0m\u001b[0mshape\u001b[0m\u001b[1;33m)\u001b[0m\u001b[1;33m\u001b[0m\u001b[1;33m\u001b[0m\u001b[0m\n\u001b[0m",
      "\u001b[1;32m~\\AppData\\Local\\Temp/ipykernel_4192/2102206797.py\u001b[0m in \u001b[0;36mget_valid_neighbours\u001b[1;34m(cell, forest, dim)\u001b[0m\n\u001b[0;32m      9\u001b[0m                 \u001b[1;32mraise\u001b[0m \u001b[0mException\u001b[0m\u001b[1;33m(\u001b[0m\u001b[1;34m\"negative column index encountered\"\u001b[0m\u001b[1;33m)\u001b[0m\u001b[1;33m\u001b[0m\u001b[1;33m\u001b[0m\u001b[0m\n\u001b[0;32m     10\u001b[0m \u001b[1;33m\u001b[0m\u001b[0m\n\u001b[1;32m---> 11\u001b[1;33m         \u001b[1;32melif\u001b[0m \u001b[0mrow\u001b[0m \u001b[1;33m>=\u001b[0m \u001b[0mdim\u001b[0m \u001b[1;33m:\u001b[0m\u001b[1;33m\u001b[0m\u001b[1;33m\u001b[0m\u001b[0m\n\u001b[0m\u001b[0;32m     12\u001b[0m                 \u001b[1;32mraise\u001b[0m \u001b[0mException\u001b[0m\u001b[1;33m(\u001b[0m\u001b[1;34m\"row index out of dimension bounds\"\u001b[0m\u001b[1;33m)\u001b[0m\u001b[1;33m\u001b[0m\u001b[1;33m\u001b[0m\u001b[0m\n\u001b[0;32m     13\u001b[0m \u001b[1;33m\u001b[0m\u001b[0m\n",
      "\u001b[1;31mValueError\u001b[0m: The truth value of an array with more than one element is ambiguous. Use a.any() or a.all()"
     ]
    }
   ],
   "source": [
    "fire_at = pick_fire_location(forest.shape)\n",
    "\n",
    "get_valid_neighbours(fire_at, forest, forest.shape)"
   ]
  },
  {
   "cell_type": "code",
   "execution_count": null,
   "id": "463c677e",
   "metadata": {},
   "outputs": [],
   "source": []
  }
 ],
 "metadata": {
  "kernelspec": {
   "display_name": "Python 3",
   "language": "python",
   "name": "python3"
  },
  "language_info": {
   "codemirror_mode": {
    "name": "ipython",
    "version": 3
   },
   "file_extension": ".py",
   "mimetype": "text/x-python",
   "name": "python",
   "nbconvert_exporter": "python",
   "pygments_lexer": "ipython3",
   "version": "3.9.6"
  }
 },
 "nbformat": 4,
 "nbformat_minor": 5
}
