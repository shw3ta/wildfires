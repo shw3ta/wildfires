{
 "cells": [
  {
   "cell_type": "code",
   "execution_count": 29,
   "id": "c10f2017",
   "metadata": {},
   "outputs": [],
   "source": [
    "import numpy as np\n",
    "import matplotlib.pyplot as plt\n",
    "import random"
   ]
  },
  {
   "cell_type": "code",
   "execution_count": 30,
   "id": "67bc1b53",
   "metadata": {},
   "outputs": [],
   "source": [
    "class square_forest:\n",
    "\t# ideally evolves till full destruction, but we set a hard limit on time\n",
    "\n",
    "\tdef __init__(self):\n",
    "\t\tself.dim = 0 \n",
    "\t\tself.cells = np.zeros((self.dim, self.dim))\n",
    "\n",
    "\tdef set_dim(self):\n",
    "\t\tself.dim = int(input(\"\\nEnter dimension of your square forest: \"))\n",
    "\t\n",
    "\tdef init_cells(self):\n",
    "\t\t# random init with some number of trees; upper limit = dim * dim\n",
    "\t\tn_trees = np.random.randint(self.dim * self.dim)\n",
    "\n",
    "\t\tloc_trees = []\n",
    "\t\tfor i in range(n_trees):\n",
    "\t\t\tcoords = tuple(np.random.randint(self.dim, size=2))\n",
    "\t\t\tprint(f\"tree {i+1} of {n_trees} spawned\")\n",
    "\t\t\tif coords not in loc_trees:\n",
    "\t\t\t\tloc_trees.append(coords)\n",
    "\t\t\t# else:\n",
    "\t\t\t# \tprint(\"again \")\n",
    "\t\t\t# print(f\"at {coords}\")\n",
    "\t\t\n",
    "\t\tfor tree in loc_trees:\n",
    "\t\t\tself.cells[tree[0], tree[1]] = 1"
   ]
  },
  {
   "cell_type": "code",
   "execution_count": 36,
   "id": "491bab26",
   "metadata": {},
   "outputs": [],
   "source": [
    "def init_forest(dim):\n",
    "    \"\"\"Create a forest as a grid of dim x dim size. \n",
    "    \n",
    "    Input:\n",
    "    dim (int): dimension of the forest grid.\n",
    "    \n",
    "    Output:\n",
    "    dim x dim forest grid with randomly planted trees.\"\"\"\n",
    "    \n",
    "    forest = np.zeros((dim, dim), dtype=int)\n",
    "    n_trees = np.random.randint(dim * dim)\n",
    "\n",
    "    loc_trees = []\n",
    "    for i in range(n_trees):\n",
    "        # random coordinates\n",
    "        coords = np.random.randint(dim, size=2)\n",
    "        loc_trees.append(coords)\n",
    "    \n",
    "\n",
    "    for tree in loc_trees:\n",
    "        forest[tree[0], tree[1]] = 1\n",
    "    \n",
    "    return forest "
   ]
  },
  {
   "cell_type": "code",
   "execution_count": 37,
   "id": "308b5256",
   "metadata": {},
   "outputs": [
    {
     "data": {
      "text/plain": [
       "array([[0, 0, 1, 0, 0],\n",
       "       [0, 0, 0, 0, 0],\n",
       "       [0, 1, 0, 0, 0],\n",
       "       [0, 0, 0, 0, 1],\n",
       "       [0, 1, 1, 0, 1]])"
      ]
     },
     "execution_count": 37,
     "metadata": {},
     "output_type": "execute_result"
    }
   ],
   "source": [
    "dim = 5\n",
    "forest = init_forest(dim)\n",
    "forest"
   ]
  },
  {
   "cell_type": "code",
   "execution_count": 38,
   "id": "098c1fe4",
   "metadata": {},
   "outputs": [
    {
     "data": {
      "text/plain": [
       "0.24"
      ]
     },
     "execution_count": 38,
     "metadata": {},
     "output_type": "execute_result"
    }
   ],
   "source": [
    "# tree density\n",
    "np.count_nonzero(forest == 1) / (dim*dim)"
   ]
  },
  {
   "cell_type": "code",
   "execution_count": 44,
   "id": "73b8be59",
   "metadata": {},
   "outputs": [],
   "source": [
    "def get_valid_neighbours(cell, dim):\n",
    "\t\n",
    "\n",
    "\trow, col = cell[0], cell[1]\n",
    "\tif row < 0 : \n",
    "\t\traise Exception(\"negative row index encountered\")\n",
    "\n",
    "\telif col < 0 : \n",
    "\t\traise Exception(\"negative column index encountered\")\n",
    "\n",
    "\telif row >= dim : \n",
    "\t\traise Exception(\"row index out of dimension bounds\")\n",
    "\n",
    "\telif col >= dim : \n",
    "\t\traise Exception(\"column index out of dimension bounds\")\n",
    "\n",
    "\telse:\n",
    "\t\tneighbours = [(row - 1, col), (row + 1, col), (row, col - 1), (row, col + 1)]\n",
    "\t\n",
    "\t\t# validation\n",
    "\t\tfor i, neighbour in enumerate(neighbours):\n",
    "\t\t\tif neighbour[0] < 0 or neighbour[1] < 0 or neighbour[0] == dim or neighbour[1] == dim: \n",
    "\t\t\t\t# top, bottom, left, right edges\n",
    "\t\t\t\tneighbours[i] = None\n",
    "\n",
    "\t\treturn neighbours"
   ]
  },
  {
   "cell_type": "code",
   "execution_count": 45,
   "id": "7fe91f4a",
   "metadata": {},
   "outputs": [],
   "source": [
    "def pick_fire_location(dim):\n",
    "\treturn np.random.randint(dim, size=2)"
   ]
  },
  {
   "cell_type": "code",
   "execution_count": 46,
   "id": "cae1d971",
   "metadata": {},
   "outputs": [],
   "source": [
    "def spread(valid_neighbours, forest, dim):\n",
    "\n",
    "\tfor nb in valid_neighbours:\n",
    "\t\tif nb != None and forest[nb[0], nb[1]] == 1 :\n",
    "\t\t\tforest[nb[0], nb[1]] = 2 \n",
    "\t\t\tprint(\"\\n\", forest)\n",
    "\t\t\t# then call spread on this cell\n",
    "\t\t\tspread(get_valid_neighbours(nb, dim), forest, dim)\n",
    "\t\t\tforest[nb[0], nb[1]] = 0 # 2 -> 0 i.e fire then dead\n",
    "\t\t\tprint(\"\\n\", forest)"
   ]
  },
  {
   "cell_type": "code",
   "execution_count": 47,
   "id": "744d7b30",
   "metadata": {},
   "outputs": [],
   "source": [
    "def simulate_one_fire(dim):\n",
    "\tforest = init_forest(dim)\n",
    "\tfire_at = pick_fire_location(dim)\n",
    "\n",
    "\t# 0 means empty cell, 1 means cell had a tree\n",
    "\tforest[fire_at[0], fire_at[1]] = 2 \n",
    "\tprint(\"\\n\", forest)\n",
    "\n",
    "\t# start and spread\n",
    "\tspread(get_valid_neighbours(fire_at, dim), forest, dim)"
   ]
  },
  {
   "cell_type": "code",
   "execution_count": 48,
   "id": "386eb0b9",
   "metadata": {},
   "outputs": [
    {
     "name": "stdout",
     "output_type": "stream",
     "text": [
      "\n",
      " [[1 0 1 1 0]\n",
      " [2 1 0 0 0]\n",
      " [1 0 1 1 0]\n",
      " [1 1 1 0 1]\n",
      " [0 0 1 1 0]]\n",
      "\n",
      " [[2 0 1 1 0]\n",
      " [2 1 0 0 0]\n",
      " [1 0 1 1 0]\n",
      " [1 1 1 0 1]\n",
      " [0 0 1 1 0]]\n",
      "\n",
      " [[0 0 1 1 0]\n",
      " [2 1 0 0 0]\n",
      " [1 0 1 1 0]\n",
      " [1 1 1 0 1]\n",
      " [0 0 1 1 0]]\n",
      "\n",
      " [[0 0 1 1 0]\n",
      " [2 1 0 0 0]\n",
      " [2 0 1 1 0]\n",
      " [1 1 1 0 1]\n",
      " [0 0 1 1 0]]\n",
      "\n",
      " [[0 0 1 1 0]\n",
      " [2 1 0 0 0]\n",
      " [2 0 1 1 0]\n",
      " [2 1 1 0 1]\n",
      " [0 0 1 1 0]]\n",
      "\n",
      " [[0 0 1 1 0]\n",
      " [2 1 0 0 0]\n",
      " [2 0 1 1 0]\n",
      " [2 2 1 0 1]\n",
      " [0 0 1 1 0]]\n",
      "\n",
      " [[0 0 1 1 0]\n",
      " [2 1 0 0 0]\n",
      " [2 0 1 1 0]\n",
      " [2 2 2 0 1]\n",
      " [0 0 1 1 0]]\n",
      "\n",
      " [[0 0 1 1 0]\n",
      " [2 1 0 0 0]\n",
      " [2 0 2 1 0]\n",
      " [2 2 2 0 1]\n",
      " [0 0 1 1 0]]\n",
      "\n",
      " [[0 0 1 1 0]\n",
      " [2 1 0 0 0]\n",
      " [2 0 2 2 0]\n",
      " [2 2 2 0 1]\n",
      " [0 0 1 1 0]]\n",
      "\n",
      " [[0 0 1 1 0]\n",
      " [2 1 0 0 0]\n",
      " [2 0 2 0 0]\n",
      " [2 2 2 0 1]\n",
      " [0 0 1 1 0]]\n",
      "\n",
      " [[0 0 1 1 0]\n",
      " [2 1 0 0 0]\n",
      " [2 0 0 0 0]\n",
      " [2 2 2 0 1]\n",
      " [0 0 1 1 0]]\n",
      "\n",
      " [[0 0 1 1 0]\n",
      " [2 1 0 0 0]\n",
      " [2 0 0 0 0]\n",
      " [2 2 2 0 1]\n",
      " [0 0 2 1 0]]\n",
      "\n",
      " [[0 0 1 1 0]\n",
      " [2 1 0 0 0]\n",
      " [2 0 0 0 0]\n",
      " [2 2 2 0 1]\n",
      " [0 0 2 2 0]]\n",
      "\n",
      " [[0 0 1 1 0]\n",
      " [2 1 0 0 0]\n",
      " [2 0 0 0 0]\n",
      " [2 2 2 0 1]\n",
      " [0 0 2 0 0]]\n",
      "\n",
      " [[0 0 1 1 0]\n",
      " [2 1 0 0 0]\n",
      " [2 0 0 0 0]\n",
      " [2 2 2 0 1]\n",
      " [0 0 0 0 0]]\n",
      "\n",
      " [[0 0 1 1 0]\n",
      " [2 1 0 0 0]\n",
      " [2 0 0 0 0]\n",
      " [2 2 0 0 1]\n",
      " [0 0 0 0 0]]\n",
      "\n",
      " [[0 0 1 1 0]\n",
      " [2 1 0 0 0]\n",
      " [2 0 0 0 0]\n",
      " [2 0 0 0 1]\n",
      " [0 0 0 0 0]]\n",
      "\n",
      " [[0 0 1 1 0]\n",
      " [2 1 0 0 0]\n",
      " [2 0 0 0 0]\n",
      " [0 0 0 0 1]\n",
      " [0 0 0 0 0]]\n",
      "\n",
      " [[0 0 1 1 0]\n",
      " [2 1 0 0 0]\n",
      " [0 0 0 0 0]\n",
      " [0 0 0 0 1]\n",
      " [0 0 0 0 0]]\n",
      "\n",
      " [[0 0 1 1 0]\n",
      " [2 2 0 0 0]\n",
      " [0 0 0 0 0]\n",
      " [0 0 0 0 1]\n",
      " [0 0 0 0 0]]\n",
      "\n",
      " [[0 0 1 1 0]\n",
      " [2 0 0 0 0]\n",
      " [0 0 0 0 0]\n",
      " [0 0 0 0 1]\n",
      " [0 0 0 0 0]]\n"
     ]
    }
   ],
   "source": [
    "simulate_one_fire(5)"
   ]
  },
  {
   "cell_type": "code",
   "execution_count": null,
   "id": "463c677e",
   "metadata": {},
   "outputs": [],
   "source": []
  }
 ],
 "metadata": {
  "kernelspec": {
   "display_name": "Python 3",
   "language": "python",
   "name": "python3"
  },
  "language_info": {
   "codemirror_mode": {
    "name": "ipython",
    "version": 3
   },
   "file_extension": ".py",
   "mimetype": "text/x-python",
   "name": "python",
   "nbconvert_exporter": "python",
   "pygments_lexer": "ipython3",
   "version": "3.9.6"
  }
 },
 "nbformat": 4,
 "nbformat_minor": 5
}
